{
  "nbformat": 4,
  "nbformat_minor": 0,
  "metadata": {
    "colab": {
      "name": "Screaping_dataset.ipynb",
      "provenance": [],
      "collapsed_sections": []
    },
    "kernelspec": {
      "name": "python3",
      "display_name": "Python 3"
    },
    "language_info": {
      "name": "python"
    }
  },
  "cells": [
    {
      "cell_type": "code",
      "execution_count": null,
      "metadata": {
        "id": "6QaWjiZblk62"
      },
      "outputs": [],
      "source": [
        "import requests\n",
        "import numpy as np\n",
        "import pandas as pd\n",
        "from bs4 import BeautifulSoup\n",
        "import matplotlib.pyplot as plt\n",
        "import re\n",
        "\n",
        "!pip install selenium\n",
        "!apt-get update \n",
        "!apt install chromium-chromedriver\n",
        "\n",
        "from selenium import webdriver\n",
        "import time"
      ]
    },
    {
      "cell_type": "markdown",
      "source": [
        "# Tworzenie klasy\n"
      ],
      "metadata": {
        "id": "NsvGERpNL0vy"
      }
    },
    {
      "cell_type": "code",
      "source": [
        "class WebScrapper:\n",
        "\n",
        "    def __init__(self):\n",
        "        chrome_options = webdriver.ChromeOptions()\n",
        "        chrome_options.add_argument('--headless')\n",
        "        chrome_options.add_argument('--no-sandbox')\n",
        "        chrome_options.add_argument('--disable-dev-shm-usage')\n",
        "        self.browser = webdriver.Chrome('chromedriver', options=chrome_options)\n",
        "        \n",
        "        self.browser.get(\"https://www.gry-online.pl/gry/12vi\")\n",
        "        time.sleep(1)\n",
        "\n",
        "        doc = self.browser.find_elements_by_xpath(\"//button[contains(@class,'css-1xrfbkv')]\")\n",
        "        if len(doc):\n",
        "            doc[0].click()\n",
        "            time.sleep(1)\n",
        "\n",
        "    def next_page(self, how_many=1):\n",
        "        for i in range(how_many):\n",
        "            doc = self.browser.find_elements_by_xpath(\"//div[contains(@class,'np-right')]\")[0]\n",
        "            doc.click()\n",
        "            time.sleep(1)\n",
        "\n",
        "    def extract_games(self):\n",
        "        gry_soup = BeautifulSoup(self.browser.page_source, 'html.parser')\n",
        "        return gry_soup.find_all('h5')\n",
        "\n",
        "    def extract_links_part(self):\n",
        "        gry_soup = BeautifulSoup(self.browser.page_source, 'html.parser')\n",
        "        return gry_soup.find_all('a', class_=\"pic-c\")\n",
        "\n",
        "    def extract_short_text(self):\n",
        "        gry_soup = BeautifulSoup(self.browser.page_source, 'html.parser')\n",
        "        return gry_soup.find_all('p', class_=False)\n",
        "    \n",
        "    def extract_desc(self, addres):\n",
        "        return BeautifulSoup(requests.get('https://www.gry-online.pl' + addres).text, 'html.parser')\n",
        "\n",
        "    def close(self):\n",
        "        self.browser.quit()\n",
        "\n"
      ],
      "metadata": {
        "id": "y7_K2Ne3bwiu"
      },
      "execution_count": null,
      "outputs": []
    },
    {
      "cell_type": "markdown",
      "source": [
        "# Pobieranie i obrabianie daych"
      ],
      "metadata": {
        "id": "5BQ5o64Y562p"
      }
    },
    {
      "cell_type": "code",
      "source": [
        "getter = WebScrapper()\n",
        "df = pd.DataFrame({'Game_name': getter.extract_games(), 'html': getter.extract_links_part(), 'Short_text': getter.extract_short_text()[2:]})\n",
        "\n",
        "repetition = 1\n",
        "for i in range(repetition):\n",
        "    if i%10 == 0:\n",
        "        print(np.round(i/repetition)*100, ' %')\n",
        "    getter.next_page()\n",
        "    df = df.append(pd.DataFrame({'Game_name': getter.extract_games(), 'html': getter.extract_links_part(), 'Short_text': getter.extract_short_text()[2:]}), ignore_index = True)\n",
        "\n",
        "df['Game_name'] = df['Game_name'].apply(lambda x: x.get_text())\n",
        "df['Short_text'] = df['Short_text'].apply(lambda x: x.get_text())\n",
        "df['html'] = df['html'].apply(lambda x: x['href'])\n",
        "\n"
      ],
      "metadata": {
        "id": "e4DpWmgsdonR"
      },
      "execution_count": null,
      "outputs": []
    },
    {
      "cell_type": "code",
      "source": [
        "def test_computing(x): \n",
        "    x = BeautifulSoup(x)\n",
        "    res = x.find_all(id=\"game-description-cnt\")\n",
        "    d = str(res[0]).find('>Dodatkowe')\n",
        "    kt = str(res[0]).find('>Kwestie')\n",
        "    inne = str(res[0]).find('>Inne')\n",
        "    lista = [d, kt, inne]\n",
        "    if np.min(lista) == -1:\n",
        "        if np.max(lista) == -1:\n",
        "            return(BeautifulSoup(str(res[0])).get_text())\n",
        "        else:\n",
        "            min_ = min(list(map(lambda x: np.Inf if x == -1 else x, lista)))\n",
        "            return(BeautifulSoup(str(res[0])[0: min_]).get_text())\n",
        "    else:\n",
        "        return(BeautifulSoup(str(res[0])[0: np.min(lista)]).get_text())"
      ],
      "metadata": {
        "id": "H4kgUzgbk31V"
      },
      "execution_count": null,
      "outputs": []
    },
    {
      "cell_type": "code",
      "source": [
        "df['Opis'] = df['html'].apply(getter.extract_desc)\n",
        "getter.close()\n",
        "df['Opis'] = df['Opis'].apply(lambda x: test_computing(x))\n",
        "df.drop_duplicates(subset=['Game_name'],inplace=True)\n",
        "df.dropna(axis=0,inplace=True)\n",
        "df = df.reset_index(drop=True)\n",
        "df.info()"
      ],
      "metadata": {
        "id": "GFQizF9h5nWR"
      },
      "execution_count": null,
      "outputs": []
    },
    {
      "cell_type": "code",
      "source": [
        "df.to_csv('list_v7_final.csv')"
      ],
      "metadata": {
        "id": "d5_TmfBFyA8M"
      },
      "execution_count": null,
      "outputs": []
    }
  ]
}